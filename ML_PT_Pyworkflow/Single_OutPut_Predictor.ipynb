{
 "cells": [
  {
   "cell_type": "markdown",
   "id": "4d9b1460-7be0-47bc-802e-d883e532733c",
   "metadata": {},
   "source": [
    "##### **Clinopyroxene and clinopyroxene-liquid thermo-barometers**\n",
    "\n",
    "This script applies pre-trained models to your data set and it gives you back pressure or temperature estimates of your samples in kbar and °C, respectively.\n",
    "What do you need to do?\n",
    "1. You just need to replace the values of the oxides you find in the \"Unknowns-template.xlsx\" (in the datasets folder) with your own measurements. Do not change the name of the file or the name of the columns!\n",
    "2. Select between 'cpx_only' or 'cpx_liquid' and  'Temperature' or 'Pressure' on the next cell.\n",
    "3. Press the \"restart the kernel and run all cells\" button to get your results! Your results will be in an Excel file in the \"out-files\" folder.\n",
    "- Note: To specify your own errors, go to part '5.Monte carlo error propagation' and follow the instructions bellow. The user is responsible for the pre-processing step of their own data,  e.g., filtering, equilibrium tests, etc."
   ]
  },
  {
   "cell_type": "markdown",
   "id": "bd60f758",
   "metadata": {},
   "source": [
    "# Settings"
   ]
  },
  {
   "cell_type": "code",
   "execution_count": 1,
   "id": "c35acbcf",
   "metadata": {
    "ExecuteTime": {
     "end_time": "2024-07-19T09:16:32.581981Z",
     "start_time": "2024-07-19T09:16:32.576820Z"
    }
   },
   "outputs": [],
   "source": [
    "model = 'cpx_only' # 'cpx_only' or 'cpx_liquid'\n",
    "output = 'Temperature' # 'Temperature' or 'Pressure'\n",
    "p = 1000  #Number of replicates in the Monte-Carlo simulation-putting a low number will result in an incorrect estimation of the error.\n"
   ]
  },
  {
   "cell_type": "markdown",
   "id": "c4d78ade",
   "metadata": {},
   "source": [
    "# Import"
   ]
  },
  {
   "cell_type": "code",
   "execution_count": 2,
   "id": "52db237b",
   "metadata": {
    "ExecuteTime": {
     "end_time": "2024-07-19T09:16:33.389588Z",
     "start_time": "2024-07-19T09:16:33.381137Z"
    },
    "init_cell": true
   },
   "outputs": [],
   "source": [
    "import numpy as np\n",
    "import pandas as pd\n",
    "import json\n",
    "import onnxruntime as rt\n",
    "import scipy.stats as st\n",
    "from sklearn.metrics import r2_score\n",
    "import matplotlib.pyplot as plt\n",
    "from sklearn.metrics import mean_squared_error as RMSE\n",
    "from ML_PT_Pyworkflow import*\n",
    "\n",
    "import warnings\n",
    "warnings.filterwarnings('ignore')"
   ]
  },
  {
   "cell_type": "markdown",
   "id": "f55c4007",
   "metadata": {},
   "source": [
    "# Data Loading"
   ]
  },
  {
   "cell_type": "markdown",
   "id": "b7f7219c-52ef-48da-bf9b-b866a2330c7f",
   "metadata": {},
   "source": [
    "Available datasets: \n",
    "- \"Jorgenson\": dataset used for training and testing.\n",
    "- \"Train_P\": training dataset for pressure cpx and cpx_liquid models\n",
    "- \"Train_T\": training dataset for temperature cpx and cpx_liquid models.\n",
    "- \"ArcPl\": External test, Filtered ArcPl compilation, original data from: __[Wieser et al.(2023)](https://doi.org/10.1093/petrology/egac126)__ .\n",
    "- \"Test_P\": Internal test (20 % of original dataset) used to evaluate pressure estimates using cpx and cpx_liquid models.\n",
    "- \"Test_T\": Internal test (20 % of original dataset) used to evaluate temperature estimates using cpx and cpx_liquid models.\n",
    "- \"Unknowns\": The user unknowns."
   ]
  },
  {
   "cell_type": "code",
   "execution_count": 3,
   "id": "d134add8",
   "metadata": {
    "ExecuteTime": {
     "end_time": "2024-07-19T09:16:34.083056Z",
     "start_time": "2024-07-19T09:16:34.029475Z"
    }
   },
   "outputs": [],
   "source": [
    "#df_init = Dataset.Test_P\n",
    "df_init = Dataset.Unknowns\n",
    "df  = data_imputation(df_init)\n",
    "\n",
    "Elements_Cpx = ['SiO2_Cpx', 'TiO2_Cpx', 'Al2O3_Cpx', 'FeOt_Cpx', 'MgO_Cpx', 'MnO_Cpx', 'CaO_Cpx',  'Na2O_Cpx', 'Cr2O3_Cpx']\n",
    "Elements_Liq = ['SiO2_Liq', 'TiO2_Liq', 'Al2O3_Liq', 'FeOt_Liq', 'MgO_Liq', 'MnO_Liq', 'CaO_Liq',  'Na2O_Liq', 'K2O_Liq']\n",
    "\n",
    "if model == 'cpx_only':\n",
    "    for element in Elements_Cpx:\n",
    "        df_m = replace_zeros(df, element)\n",
    "    sample_names = df['Sample_ID'] \n",
    "    Xd = df[Elements_Cpx]\n",
    "    X = np.array(Xd)\n",
    "        \n",
    "elif model == 'cpx_liquid':\n",
    "    for element in Elements_Cpx:\n",
    "        df_m = replace_zeros(df, element) \n",
    "    for element in Elements_Liq:\n",
    "        df_m = replace_zeros(df, element)\n",
    "    sample_names = df['Sample_ID'] \n",
    "    Xd = df[Elements_Cpx+Elements_Liq]\n",
    "    X = np.array(Xd)"
   ]
  },
  {
   "cell_type": "markdown",
   "id": "d014ec0a",
   "metadata": {},
   "source": [
    "## Training bounds"
   ]
  },
  {
   "cell_type": "code",
   "execution_count": 4,
   "id": "aa75d414",
   "metadata": {
    "ExecuteTime": {
     "end_time": "2024-07-19T09:16:35.150941Z",
     "start_time": "2024-07-19T09:16:35.096367Z"
    }
   },
   "outputs": [],
   "source": [
    "if model == 'cpx_only' and output == 'Pressure':\n",
    "    pred_max_bound = np.ones(len(X)) * 30.000000\n",
    "    pred_min_bound = np.ones(len(X)) * 0.00000\n",
    "    warning = df.apply(lambda x: '' if 0.250000<=x['Al2O3_Cpx']<=25.760000\n",
    "                                      and 0.000137<=x['Na2O_Cpx']<=7.760000\n",
    "                                      and 0.400000<=x['CaO_Cpx']<=24.820000\n",
    "                                    else 'Input out of bound', axis=1) \n",
    "elif model == 'cpx_liquid' and output == 'Pressure':\n",
    "    pred_max_bound = np.ones(len(X)) * 30.000000\n",
    "    pred_min_bound = np.ones(len(X)) * 0.00000\n",
    "    warning = df.apply(lambda x: '' if 0.250000<=x['Al2O3_Cpx']<=25.760000\n",
    "                                      and 0.000137<=x['Na2O_Cpx']<=7.760000\n",
    "                                      and 0.030000<=x['MgO_Liq']<=18.587513\n",
    "                                    else 'Input out of bound', axis=1) \n",
    "elif model == 'cpx_only' and output == 'Temperature':\n",
    "    pred_max_bound = np.ones(len(X)) * 1700.000000\n",
    "    pred_min_bound = np.ones(len(X)) * 700.000000\n",
    "    warning = df.apply(lambda x: '' if 0.760000<=x['MgO_Cpx']<=31.300000\n",
    "                                      and 0.400000<=x['CaO_Cpx']<=24.820000\n",
    "                                      and 0.290000<=x['Al2O3_Cpx']<=19.010000\n",
    "                                      and 1.700000<=x['FeOt_Cpx']<=34.200000\n",
    "                                      and 0.000179<=x['MnO_Cpx']<=2.980000\n",
    "                                    else 'Input out of bound', axis=1)\n",
    "elif model == 'cpx_liquid' and output == 'Temperature':\n",
    "    pred_max_bound = np.ones(len(X)) * 1700.000000\n",
    "    pred_min_bound = np.ones(len(X)) * 700.000000\n",
    "    warning = df.apply(lambda x: '' if 0.030000<=x['MgO_Liq']<=17.723561\n",
    "                                    else 'Input out of bound', axis=1)"
   ]
  },
  {
   "cell_type": "markdown",
   "id": "92e72e2c",
   "metadata": {},
   "source": [
    "# Monte Carlo error propagation"
   ]
  },
  {
   "cell_type": "code",
   "execution_count": 5,
   "id": "c85a95b4",
   "metadata": {
    "ExecuteTime": {
     "end_time": "2024-07-19T09:16:36.238459Z",
     "start_time": "2024-07-19T09:16:36.229137Z"
    }
   },
   "outputs": [],
   "source": [
    "std_dev_perc = Parameters.oxide_rel_err \n",
    "K = Parameters.K_rel_err\n",
    "\n",
    "if model == 'cpx_only':\n",
    "    std_dev_perc = std_dev_perc\n",
    "            \n",
    "elif model == 'cpx_liquid':\n",
    "    std_dev_perc_temp_1 = std_dev_perc\n",
    "    std_dev_perc_temp_2 = std_dev_perc[:-1]\n",
    "    std_dev_perc = np.concatenate((std_dev_perc_temp_1,std_dev_perc_temp_2,K),axis=None)"
   ]
  },
  {
   "cell_type": "markdown",
   "id": "47e57f47-695c-4f2a-a9ea-d91fccfaad6c",
   "metadata": {},
   "source": [
    "To specify different errors for each observation, you can upload an Excel file using the cell below (uncomment the lines). The structure of the Excel file needs to have the same size of your input file and the name of the columns must be the following: \n",
    "\n",
    "- cpx_only: 'SiO2_Cpx', 'TiO2_Cpx', 'Al2O3_Cpx', 'FeOt_Cpx', 'MgO_Cpx', 'MnO_Cpx', 'CaO_Cpx',  'Na2O_Cpx', 'Cr2O3_Cpx'\n",
    "- Cpx_liquid: 'SiO2_Cpx', 'TiO2_Cpx', 'Al2O3_Cpx', 'FeOt_Cpx', 'MgO_Cpx', 'MnO_Cpx', 'CaO_Cpx',  'Na2O_Cpx', 'Cr2O3_Cpx','SiO2_Liq', 'TiO2_Liq', 'Al2O3_Liq', 'FeOt_Liq', 'MgO_Liq', 'MnO_Liq', 'CaO_Liq',  'Na2O_Liq', 'K2O_Liq' \n"
   ]
  },
  {
   "cell_type": "code",
   "execution_count": 6,
   "id": "b5e53ac4-9482-4d05-98cc-cea2d2308ea6",
   "metadata": {},
   "outputs": [],
   "source": [
    "#if model == \"cpx_only\":\n",
    "#    Elements_std = ['SiO2_Cpx_rel_err', 'TiO2_Cpx_rel_err', 'Al2O3_Cpx_rel_err', 'FeOt_Cpx_rel_err', 'MgO_Cpx_rel_err', 'MnO_Cpx_rel_err', 'CaO_Cpx_rel_err',\n",
    "#                    'Na2O_Cpx_rel_err', 'Cr2O3_Cpx_rel_err']\n",
    "#elif model == \"cpx_liquid\":\n",
    "#    Elements_std = ['SiO2_Cpx_rel_err', 'TiO2_Cpx_rel_err', 'Al2O3_Cpx_rel_err', 'FeOt_Cpx_rel_err', 'MgO_Cpx_rel_err', 'MnO_Cpx_rel_err', 'CaO_Cpx_rel_err',\n",
    "#                'Na2O_Cpx_rel_err', 'Cr2O3_Cpx_rel_err', 'SiO2_Liq_rel_err', 'TiO2_Liq_rel_err', 'Al2O3_Liq_rel_err', 'FeOt_Liq_rel_err', 'MgO_Liq_rel_err',\n",
    "#                'MnO_Liq_rel_err', 'CaO_Liq_rel_err',  'Na2O_Liq_rel_err', 'K2O_Liq_rel_err']\n",
    "#    \n",
    "#df_std_dev_perc = pd.read_excel('./datasets/template_cpx_rel_err_empty_unknowns.xlsx', usecols=Elements_std)\n",
    "#\n",
    "#if len(df_std_dev_perc) != len(X) or len(df_std_dev_perc.columns) != np.shape(X)[1]:\n",
    "#    print(\"Input dataset and standard deviation have different sizes. We are using the default relative errors for all observations.\")\n",
    "#else:\n",
    "#    std_dev_perc = np.array(df_std_dev_perc)\n"
   ]
  },
  {
   "cell_type": "code",
   "execution_count": 7,
   "id": "2a72170a",
   "metadata": {
    "ExecuteTime": {
     "end_time": "2024-07-19T09:16:38.210524Z",
     "start_time": "2024-07-19T09:16:36.880976Z"
    }
   },
   "outputs": [],
   "source": [
    "X_perturb, groups = input_perturbation(X,std_dev_perc ,n_perturbations=p)"
   ]
  },
  {
   "cell_type": "markdown",
   "id": "8edb5bf3",
   "metadata": {},
   "source": [
    "# Model Prediction"
   ]
  },
  {
   "cell_type": "code",
   "execution_count": 8,
   "id": "f6d3f37b-708e-4dfa-bbbb-eff68420f4ac",
   "metadata": {
    "ExecuteTime": {
     "end_time": "2024-07-19T09:16:41.885141Z",
     "start_time": "2024-07-19T09:16:38.862963Z"
    }
   },
   "outputs": [],
   "source": [
    "scaler, predictor, bias_json = P_T_predictors(output, model)\n",
    "X_perturb_s = scaler.transform(X_perturb)\n",
    "\n",
    "bias_popt_left = np.array(bias_json['slope']['left'])\n",
    "bias_popt_right = np.array(bias_json['slope']['right'])\n",
    "ang_left = bias_json['angle']['left']\n",
    "ang_right = bias_json['angle']['right']\n",
    "\n",
    "input_name = predictor.get_inputs()[0].name  \n",
    "label_name = predictor.get_outputs()[0].name \n",
    "y_pred = predictor.run([label_name],{input_name: X_perturb_s.astype(np.float32)})[0]\n"
   ]
  },
  {
   "cell_type": "code",
   "execution_count": 9,
   "id": "27cdc511",
   "metadata": {
    "ExecuteTime": {
     "end_time": "2024-07-19T09:18:31.066726Z",
     "start_time": "2024-07-19T09:18:30.428612Z"
    }
   },
   "outputs": [
    {
     "name": "stdout",
     "output_type": "stream",
     "text": [
      "Predictions:\n",
      "     Temperature_C  Percentile_84  Percentile_16 warning\n",
      "0       951.953361     981.100793     917.401587        \n",
      "1       803.926292     838.842549     791.174519        \n",
      "2       788.122252     819.229537     772.476536        \n",
      "3       786.275097     806.024889     774.964242        \n",
      "4       832.937024     845.320632     824.603171        \n",
      "..             ...            ...            ...     ...\n",
      "840     876.003392     913.669999     837.999738        \n",
      "841    1026.286865    1042.290117    1004.622244        \n",
      "842     913.136624     955.315787     871.203309        \n",
      "843     993.980530    1019.031516     963.108191        \n",
      "844     965.666016     996.744358     928.669441        \n",
      "\n",
      "[845 rows x 4 columns]\n",
      "        Sample_ID   SiO2_Cpx  TiO2_Cpx  Al2O3_Cpx   FeOt_Cpx    MgO_Cpx  \\\n",
      "0  TR8682_B5_A1_1  50.620855    0.6503   3.254229   7.388917  13.417604   \n",
      "1  TR8682_B5_A1_2  50.749510    0.6224   3.086587   8.342679  12.856898   \n",
      "2  TR8682_B5_A1_3  50.640648    0.6291   3.165477   8.496158  12.650322   \n",
      "3  TR8683_C3_A1-1  50.363545    0.6449   2.938667   8.857930  12.345377   \n",
      "4  TR8683_C3_A1-2  49.067097    0.8913   3.333119  10.622938  10.938692   \n",
      "\n",
      "   MnO_Cpx    CaO_Cpx  Na2O_Cpx  Cr2O3_Cpx  Temperature_C  Percentile_84  \\\n",
      "0   0.3043  22.830989    0.3759     0.0110     951.953361     981.100793   \n",
      "1   0.4258  22.516801    0.5046     0.0116     803.926292     838.842549   \n",
      "2   0.3948  22.632004    0.4799        NaN     788.122252     819.229537   \n",
      "3   0.4582  22.632004    0.5374        NaN     786.275097     806.024889   \n",
      "4   0.6454  22.548220    0.6287     0.0008     832.937024     845.320632   \n",
      "\n",
      "   Percentile_16 warning  \n",
      "0     917.401587          \n",
      "1     791.174519          \n",
      "2     772.476536          \n",
      "3     774.964242          \n",
      "4     824.603171          \n",
      "        Sample_ID   SiO2_Cpx  TiO2_Cpx  Al2O3_Cpx   FeOt_Cpx    MgO_Cpx  \\\n",
      "0  TR8682_B5_A1_1  50.620855    0.6503   3.254229   7.388917  13.417604   \n",
      "1  TR8682_B5_A1_2  50.749510    0.6224   3.086587   8.342679  12.856898   \n",
      "2  TR8682_B5_A1_3  50.640648    0.6291   3.165477   8.496158  12.650322   \n",
      "3  TR8683_C3_A1-1  50.363545    0.6449   2.938667   8.857930  12.345377   \n",
      "4  TR8683_C3_A1-2  49.067097    0.8913   3.333119  10.622938  10.938692   \n",
      "\n",
      "   MnO_Cpx    CaO_Cpx  Na2O_Cpx  Cr2O3_Cpx  Temperature_C  Percentile_84  \\\n",
      "0   0.3043  22.830989    0.3759     0.0110     951.953361     981.100793   \n",
      "1   0.4258  22.516801    0.5046     0.0116     803.926292     838.842549   \n",
      "2   0.3948  22.632004    0.4799        NaN     788.122252     819.229537   \n",
      "3   0.4582  22.632004    0.5374        NaN     786.275097     806.024889   \n",
      "4   0.6454  22.548220    0.6287     0.0008     832.937024     845.320632   \n",
      "\n",
      "   Percentile_16 warning  \n",
      "0     917.401587          \n",
      "1     791.174519          \n",
      "2     772.476536          \n",
      "3     774.964242          \n",
      "4     824.603171          \n"
     ]
    }
   ],
   "source": [
    "unit = 'kbar' if output == 'Pressure' else 'C'\n",
    "    \n",
    "unique_y_pred = np.apply_along_axis(np.median,1, np.split(y_pred[:,0],len(y_pred)/p))\n",
    "unique_y_perc_max = np.apply_along_axis(max_perc,1, np.split(y_pred[:,0],len(y_pred)/p))\n",
    "unique_y_perc_min = np.apply_along_axis(min_perc,1, np.split(y_pred[:,0],len(y_pred)/p))\n",
    "\n",
    "bias_temp = bias_f(unique_y_pred,\n",
    "                   ang_left, bias_popt_left, \n",
    "                   ang_right, bias_popt_right)\n",
    "\n",
    "\n",
    "unique_y_pred_temp = unique_y_pred - bias_temp\n",
    "unique_y_perc_max_temp = unique_y_perc_max - bias_temp\n",
    "unique_y_perc_min_temp =  unique_y_perc_min - bias_temp\n",
    "\n",
    "# Bound of the training set \n",
    "unique_y_pred = np.minimum(pred_max_bound, np.maximum(pred_min_bound, unique_y_pred_temp))\n",
    "unique_y_perc_max = np.minimum(pred_max_bound, np.maximum(pred_min_bound, unique_y_perc_max_temp))\n",
    "unique_y_perc_min = np.minimum(pred_max_bound, np.maximum(pred_min_bound, unique_y_perc_min_temp))\n",
    "\n",
    "\n",
    "error = (unique_y_perc_max - unique_y_perc_min)/2\n",
    "predictions = pd.DataFrame(data=np.transpose(np.array([unique_y_pred,unique_y_perc_max,unique_y_perc_min])),    \n",
    "             columns=[output+'_'+unit, 'Percentile_84', 'Percentile_16']) \n",
    "predictions['warning'] = warning\n",
    "\n",
    "print('Predictions:')\n",
    "print(predictions)\n",
    "\n",
    "df_orig = df_init\n",
    "df_orig['Sample_ID'] = df_orig['Sample_ID'].astype(str)\n",
    "\n",
    "if model == 'cpx_only':\n",
    "    df_orig = pd.concat([df_orig['Sample_ID'], df_orig[Elements_Cpx]], axis=1)\n",
    "    output_file_name = 'out-files/Results_cpx_only_' + output + '.xlsx'\n",
    "    \n",
    "elif model == 'cpx_liquid':\n",
    "    df_orig = pd.concat([df_orig['Sample_ID'], df_orig[Elements_Cpx + Elements_Liq]], axis=1)\n",
    "    output_file_name = 'out-files/Results_cpx_liquid_' + output + '.xlsx'\n",
    "    \n",
    "finaldf = pd.concat([df_orig, predictions], axis=1)    \n",
    "print(finaldf.head())\n",
    "\n",
    "\n",
    "print(finaldf.head())\n",
    "finaldf.to_excel(output_file_name, sheet_name=output, index=False)\n"
   ]
  },
  {
   "cell_type": "markdown",
   "id": "4bc340fd-680d-4cc1-9f5e-a81d9bdfd705",
   "metadata": {},
   "source": [
    "# Data Visualization"
   ]
  },
  {
   "cell_type": "code",
   "execution_count": 10,
   "id": "3a06da2e-394c-4246-a0bc-189461e0a314",
   "metadata": {
    "ExecuteTime": {
     "end_time": "2024-07-18T15:33:05.616805Z",
     "start_time": "2024-07-18T15:33:05.264833Z"
    }
   },
   "outputs": [
    {
     "data": {
      "image/png": "[encoded data removed]",
      "text/plain": [
       "<Figure size 640x480 with 1 Axes>"
      ]
     },
     "metadata": {},
     "output_type": "display_data"
    }
   ],
   "source": [
    "# Plot histogram\n",
    "My_color = '#9BB0C1' if output == 'Pressure' else '#D37676'\n",
    "plt.hist(finaldf[output+'_'+unit], color=My_color, edgecolor='black')\n",
    "plt.xlabel(output+' ['+unit+']')\n",
    "plt.ylabel('Frequency')\n",
    "plt.title(output)\n",
    "plt.grid(color='#B2B2B2', linestyle='--', linewidth=0.5, alpha=0.4)\n",
    "plt.savefig('Figures/'+'Results_'+output+ ('_cpx' if model== 'cpx_only' else '_cpx_liq') +'.pdf', format='pdf')\n"
   ]
  },
  {
   "cell_type": "code",
   "execution_count": null,
   "id": "4a6ed400-155d-4579-abe9-bd95602f2ee3",
   "metadata": {},
   "outputs": [],
   "source": []
  }
 ],
 "metadata": {
  "kernelspec": {
   "display_name": "Python 3 (ipykernel)",
   "language": "python",
   "name": "python3"
  },
  "language_info": {
   "codemirror_mode": {
    "name": "ipython",
    "version": 3
   },
   "file_extension": ".py",
   "mimetype": "text/x-python",
   "name": "python",
   "nbconvert_exporter": "python",
   "pygments_lexer": "ipython3",
   "version": "3.11.5"
  },
  "toc": {
   "base_numbering": 1,
   "nav_menu": {},
   "number_sections": true,
   "sideBar": true,
   "skip_h1_title": false,
   "title_cell": "Table of Contents",
   "title_sidebar": "Contents",
   "toc_cell": false,
   "toc_position": {
    "height": "calc(100% - 180px)",
    "left": "10px",
    "top": "150px",
    "width": "165px"
   },
   "toc_section_display": true,
   "toc_window_display": false
  }
 },
 "nbformat": 4,
 "nbformat_minor": 5
}
